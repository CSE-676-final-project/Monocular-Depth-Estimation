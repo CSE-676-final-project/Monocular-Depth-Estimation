{
 "cells": [
  {
   "cell_type": "code",
   "execution_count": 8,
   "metadata": {},
   "outputs": [],
   "source": [
    "from Data import Depthset, Agument, toTensor\n",
    "from models import Model\n",
    "\n",
    "import torch\n",
    "import torch.nn as nn\n",
    "from torchvision import transforms\n",
    "from torch.utils.data import DataLoader\n",
    "\n",
    "import mat73\n",
    "import kornia\n",
    "import pickle\n",
    "import time"
   ]
  },
  {
   "cell_type": "code",
   "execution_count": 2,
   "metadata": {},
   "outputs": [
    {
     "name": "stderr",
     "output_type": "stream",
     "text": [
      "ERROR:root:ERROR: MATLAB type not supported: containers.Map, (uint32)\n"
     ]
    },
    {
     "name": "stdout",
     "output_type": "stream",
     "text": [
      "dataset loaded\n"
     ]
    }
   ],
   "source": [
    "file_path = \"./data/nyu_depth_v2_labeled.mat\"\n",
    "data_dict = mat73.loadmat(file_path)\n",
    "\n",
    "dataset = Depthset(\n",
    "    data_dict=data_dict,\n",
    "    transform=transforms.Compose([Agument(probability=0.5),toTensor()])\n",
    "    )\n",
    "print(\"dataset loaded\")"
   ]
  },
  {
   "cell_type": "code",
   "execution_count": 10,
   "metadata": {},
   "outputs": [
    {
     "name": "stdout",
     "output_type": "stream",
     "text": [
      "[0/50] loss: 534.6158138513565 time: 195.16491174697876\n"
     ]
    },
    {
     "ename": "KeyboardInterrupt",
     "evalue": "",
     "output_type": "error",
     "traceback": [
      "\u001b[1;31m---------------------------------------------------------------------------\u001b[0m",
      "\u001b[1;31mKeyboardInterrupt\u001b[0m                         Traceback (most recent call last)",
      "\u001b[1;32mc:\\Users\\naine\\Documents\\github\\Monocular-Depth-Estimation\\train.ipynb Cell 3'\u001b[0m in \u001b[0;36m<module>\u001b[1;34m\u001b[0m\n\u001b[0;32m     <a href='vscode-notebook-cell:/c%3A/Users/naine/Documents/github/Monocular-Depth-Estimation/train.ipynb#ch0000005?line=36'>37</a>\u001b[0m out \u001b[39m=\u001b[39m model(image)\n\u001b[0;32m     <a href='vscode-notebook-cell:/c%3A/Users/naine/Documents/github/Monocular-Depth-Estimation/train.ipynb#ch0000005?line=38'>39</a>\u001b[0m loss \u001b[39m=\u001b[39m criterion(out, depth)\n\u001b[1;32m---> <a href='vscode-notebook-cell:/c%3A/Users/naine/Documents/github/Monocular-Depth-Estimation/train.ipynb#ch0000005?line=39'>40</a>\u001b[0m l_ssim \u001b[39m=\u001b[39m torch\u001b[39m.\u001b[39mclamp((\u001b[39m1\u001b[39m \u001b[39m-\u001b[39m ssim(out, depth)) \u001b[39m*\u001b[39m \u001b[39m0.5\u001b[39m, \u001b[39m0\u001b[39m, \u001b[39m1\u001b[39m)\n\u001b[0;32m     <a href='vscode-notebook-cell:/c%3A/Users/naine/Documents/github/Monocular-Depth-Estimation/train.ipynb#ch0000005?line=40'>41</a>\u001b[0m loss \u001b[39m=\u001b[39m (\u001b[39m1.0\u001b[39m \u001b[39m*\u001b[39m l_ssim\u001b[39m.\u001b[39mmean()\u001b[39m.\u001b[39mitem()) \u001b[39m+\u001b[39m (\u001b[39m0.1\u001b[39m \u001b[39m*\u001b[39m loss)\n\u001b[0;32m     <a href='vscode-notebook-cell:/c%3A/Users/naine/Documents/github/Monocular-Depth-Estimation/train.ipynb#ch0000005?line=42'>43</a>\u001b[0m losses\u001b[39m.\u001b[39mappend(loss\u001b[39m.\u001b[39mitem())\n",
      "File \u001b[1;32mc:\\Users\\naine\\def\\lib\\site-packages\\torch\\nn\\modules\\module.py:1110\u001b[0m, in \u001b[0;36mModule._call_impl\u001b[1;34m(self, *input, **kwargs)\u001b[0m\n\u001b[0;32m   <a href='file:///c%3A/Users/naine/def/lib/site-packages/torch/nn/modules/module.py?line=1105'>1106</a>\u001b[0m \u001b[39m# If we don't have any hooks, we want to skip the rest of the logic in\u001b[39;00m\n\u001b[0;32m   <a href='file:///c%3A/Users/naine/def/lib/site-packages/torch/nn/modules/module.py?line=1106'>1107</a>\u001b[0m \u001b[39m# this function, and just call forward.\u001b[39;00m\n\u001b[0;32m   <a href='file:///c%3A/Users/naine/def/lib/site-packages/torch/nn/modules/module.py?line=1107'>1108</a>\u001b[0m \u001b[39mif\u001b[39;00m \u001b[39mnot\u001b[39;00m (\u001b[39mself\u001b[39m\u001b[39m.\u001b[39m_backward_hooks \u001b[39mor\u001b[39;00m \u001b[39mself\u001b[39m\u001b[39m.\u001b[39m_forward_hooks \u001b[39mor\u001b[39;00m \u001b[39mself\u001b[39m\u001b[39m.\u001b[39m_forward_pre_hooks \u001b[39mor\u001b[39;00m _global_backward_hooks\n\u001b[0;32m   <a href='file:///c%3A/Users/naine/def/lib/site-packages/torch/nn/modules/module.py?line=1108'>1109</a>\u001b[0m         \u001b[39mor\u001b[39;00m _global_forward_hooks \u001b[39mor\u001b[39;00m _global_forward_pre_hooks):\n\u001b[1;32m-> <a href='file:///c%3A/Users/naine/def/lib/site-packages/torch/nn/modules/module.py?line=1109'>1110</a>\u001b[0m     \u001b[39mreturn\u001b[39;00m forward_call(\u001b[39m*\u001b[39m\u001b[39minput\u001b[39m, \u001b[39m*\u001b[39m\u001b[39m*\u001b[39mkwargs)\n\u001b[0;32m   <a href='file:///c%3A/Users/naine/def/lib/site-packages/torch/nn/modules/module.py?line=1110'>1111</a>\u001b[0m \u001b[39m# Do not call functions when jit is used\u001b[39;00m\n\u001b[0;32m   <a href='file:///c%3A/Users/naine/def/lib/site-packages/torch/nn/modules/module.py?line=1111'>1112</a>\u001b[0m full_backward_hooks, non_full_backward_hooks \u001b[39m=\u001b[39m [], []\n",
      "File \u001b[1;32mc:\\Users\\naine\\def\\lib\\site-packages\\kornia\\losses\\ssim.py:105\u001b[0m, in \u001b[0;36mSSIMLoss.forward\u001b[1;34m(self, img1, img2)\u001b[0m\n\u001b[0;32m    <a href='file:///c%3A/Users/naine/def/lib/site-packages/kornia/losses/ssim.py?line=103'>104</a>\u001b[0m \u001b[39mdef\u001b[39;00m \u001b[39mforward\u001b[39m(\u001b[39mself\u001b[39m, img1: torch\u001b[39m.\u001b[39mTensor, img2: torch\u001b[39m.\u001b[39mTensor) \u001b[39m-\u001b[39m\u001b[39m>\u001b[39m torch\u001b[39m.\u001b[39mTensor:\n\u001b[1;32m--> <a href='file:///c%3A/Users/naine/def/lib/site-packages/kornia/losses/ssim.py?line=104'>105</a>\u001b[0m     \u001b[39mreturn\u001b[39;00m ssim_loss(img1, img2, \u001b[39mself\u001b[39;49m\u001b[39m.\u001b[39;49mwindow_size, \u001b[39mself\u001b[39;49m\u001b[39m.\u001b[39;49mmax_val, \u001b[39mself\u001b[39;49m\u001b[39m.\u001b[39;49meps, \u001b[39mself\u001b[39;49m\u001b[39m.\u001b[39;49mreduction, \u001b[39mself\u001b[39;49m\u001b[39m.\u001b[39;49mpadding)\n",
      "File \u001b[1;32mc:\\Users\\naine\\def\\lib\\site-packages\\kornia\\losses\\ssim.py:48\u001b[0m, in \u001b[0;36mssim_loss\u001b[1;34m(img1, img2, window_size, max_val, eps, reduction, padding)\u001b[0m\n\u001b[0;32m     <a href='file:///c%3A/Users/naine/def/lib/site-packages/kornia/losses/ssim.py?line=15'>16</a>\u001b[0m \u001b[39mr\u001b[39m\u001b[39m\"\"\"Function that computes a loss based on the SSIM measurement.\u001b[39;00m\n\u001b[0;32m     <a href='file:///c%3A/Users/naine/def/lib/site-packages/kornia/losses/ssim.py?line=16'>17</a>\u001b[0m \n\u001b[0;32m     <a href='file:///c%3A/Users/naine/def/lib/site-packages/kornia/losses/ssim.py?line=17'>18</a>\u001b[0m \u001b[39mThe loss, or the Structural dissimilarity (DSSIM) is described as:\u001b[39;00m\n\u001b[1;32m   (...)\u001b[0m\n\u001b[0;32m     <a href='file:///c%3A/Users/naine/def/lib/site-packages/kornia/losses/ssim.py?line=44'>45</a>\u001b[0m \u001b[39m    >>> loss = ssim_loss(input1, input2, 5)\u001b[39;00m\n\u001b[0;32m     <a href='file:///c%3A/Users/naine/def/lib/site-packages/kornia/losses/ssim.py?line=45'>46</a>\u001b[0m \u001b[39m\"\"\"\u001b[39;00m\n\u001b[0;32m     <a href='file:///c%3A/Users/naine/def/lib/site-packages/kornia/losses/ssim.py?line=46'>47</a>\u001b[0m \u001b[39m# compute the ssim map\u001b[39;00m\n\u001b[1;32m---> <a href='file:///c%3A/Users/naine/def/lib/site-packages/kornia/losses/ssim.py?line=47'>48</a>\u001b[0m ssim_map: torch\u001b[39m.\u001b[39mTensor \u001b[39m=\u001b[39m metrics\u001b[39m.\u001b[39;49mssim(img1, img2, window_size, max_val, eps, padding)\n\u001b[0;32m     <a href='file:///c%3A/Users/naine/def/lib/site-packages/kornia/losses/ssim.py?line=49'>50</a>\u001b[0m \u001b[39m# compute and reduce the loss\u001b[39;00m\n\u001b[0;32m     <a href='file:///c%3A/Users/naine/def/lib/site-packages/kornia/losses/ssim.py?line=50'>51</a>\u001b[0m loss \u001b[39m=\u001b[39m torch\u001b[39m.\u001b[39mclamp((\u001b[39m1.0\u001b[39m \u001b[39m-\u001b[39m ssim_map) \u001b[39m/\u001b[39m \u001b[39m2\u001b[39m, \u001b[39mmin\u001b[39m\u001b[39m=\u001b[39m\u001b[39m0\u001b[39m, \u001b[39mmax\u001b[39m\u001b[39m=\u001b[39m\u001b[39m1\u001b[39m)\n",
      "File \u001b[1;32mc:\\Users\\naine\\def\\lib\\site-packages\\kornia\\metrics\\ssim.py:85\u001b[0m, in \u001b[0;36mssim\u001b[1;34m(img1, img2, window_size, max_val, eps, padding)\u001b[0m\n\u001b[0;32m     <a href='file:///c%3A/Users/naine/def/lib/site-packages/kornia/metrics/ssim.py?line=81'>82</a>\u001b[0m C2: \u001b[39mfloat\u001b[39m \u001b[39m=\u001b[39m (\u001b[39m0.03\u001b[39m \u001b[39m*\u001b[39m max_val) \u001b[39m*\u001b[39m\u001b[39m*\u001b[39m \u001b[39m2\u001b[39m\n\u001b[0;32m     <a href='file:///c%3A/Users/naine/def/lib/site-packages/kornia/metrics/ssim.py?line=83'>84</a>\u001b[0m \u001b[39m# compute local mean per channel\u001b[39;00m\n\u001b[1;32m---> <a href='file:///c%3A/Users/naine/def/lib/site-packages/kornia/metrics/ssim.py?line=84'>85</a>\u001b[0m mu1: torch\u001b[39m.\u001b[39mTensor \u001b[39m=\u001b[39m filter2d(img1, kernel)\n\u001b[0;32m     <a href='file:///c%3A/Users/naine/def/lib/site-packages/kornia/metrics/ssim.py?line=85'>86</a>\u001b[0m mu2: torch\u001b[39m.\u001b[39mTensor \u001b[39m=\u001b[39m filter2d(img2, kernel)\n\u001b[0;32m     <a href='file:///c%3A/Users/naine/def/lib/site-packages/kornia/metrics/ssim.py?line=87'>88</a>\u001b[0m cropping_shape: List[\u001b[39mint\u001b[39m] \u001b[39m=\u001b[39m []\n",
      "File \u001b[1;32mc:\\Users\\naine\\def\\lib\\site-packages\\kornia\\filters\\filter.py:102\u001b[0m, in \u001b[0;36mfilter2d\u001b[1;34m(input, kernel, border_type, normalized, padding)\u001b[0m\n\u001b[0;32m    <a href='file:///c%3A/Users/naine/def/lib/site-packages/kornia/filters/filter.py?line=99'>100</a>\u001b[0m \u001b[39m# prepare kernel\u001b[39;00m\n\u001b[0;32m    <a href='file:///c%3A/Users/naine/def/lib/site-packages/kornia/filters/filter.py?line=100'>101</a>\u001b[0m b, c, h, w \u001b[39m=\u001b[39m \u001b[39minput\u001b[39m\u001b[39m.\u001b[39mshape\n\u001b[1;32m--> <a href='file:///c%3A/Users/naine/def/lib/site-packages/kornia/filters/filter.py?line=101'>102</a>\u001b[0m tmp_kernel: torch\u001b[39m.\u001b[39mTensor \u001b[39m=\u001b[39m kernel\u001b[39m.\u001b[39;49munsqueeze(\u001b[39m1\u001b[39;49m)\u001b[39m.\u001b[39;49mto(\u001b[39minput\u001b[39;49m)\n\u001b[0;32m    <a href='file:///c%3A/Users/naine/def/lib/site-packages/kornia/filters/filter.py?line=103'>104</a>\u001b[0m \u001b[39mif\u001b[39;00m normalized:\n\u001b[0;32m    <a href='file:///c%3A/Users/naine/def/lib/site-packages/kornia/filters/filter.py?line=104'>105</a>\u001b[0m     tmp_kernel \u001b[39m=\u001b[39m normalize_kernel2d(tmp_kernel)\n",
      "\u001b[1;31mKeyboardInterrupt\u001b[0m: "
     ]
    }
   ],
   "source": [
    "model = Model().cuda()\n",
    "if torch.cuda.device_count() > 1:\n",
    "    model = nn.DataParallel(model)\n",
    "\n",
    "epochs = 50\n",
    "lr = 0.0001\n",
    "batchsize = 8\n",
    "\n",
    "train_loader = DataLoader(\n",
    "    dataset=dataset,\n",
    "    batch_size=batchsize,\n",
    "    shuffle=True\n",
    "    )\n",
    "\n",
    "optimizer = torch.optim.Adam(model.parameters(),lr)\n",
    "criterion = nn.L1Loss()\n",
    "ssim = kornia.losses.SSIMLoss(window_size = 11, max_val = 1000.0 / 10.0, reduction='none')\n",
    "\n",
    "losses = []\n",
    "loss_epoch = []\n",
    "\n",
    "for epoch in range(epochs):\n",
    "    cum_loss = 0\n",
    "    counter = 0\n",
    "\n",
    "    \n",
    "    model.train()\n",
    "    start = time.time()\n",
    "    for i,batch in enumerate(train_loader):\n",
    "        optimizer.zero_grad()\n",
    "\n",
    "        image = batch['image'].cuda()\n",
    "        depth = batch['depth'].cuda()\n",
    "\n",
    "        depth = 1000.0 / depth\n",
    "\n",
    "        out = model(image)\n",
    "\n",
    "        loss = criterion(out, depth)\n",
    "        l_ssim = torch.clamp((1 - ssim(out, depth)) * 0.5, 0, 1)\n",
    "        loss = (1.0 * l_ssim.mean().item()) + (0.1 * loss)\n",
    "\n",
    "        losses.append(loss.item())\n",
    "        cum_loss += loss.item()\n",
    "        counter += 1\n",
    "\n",
    "        loss.backward()\n",
    "        optimizer.step()\n",
    "\n",
    "    loss_epoch.append(cum_loss/counter)\n",
    "\n",
    "    with open(\"./trained_models/loss_log\",'wb') as fp:\n",
    "        pickle.dump(losses,fp)\n",
    "\n",
    "    with open(\"./trained_models/epoch_loss_log\",'wb') as fp:\n",
    "        pickle.dump(loss_epoch,fp)\n",
    "\n",
    "    path = f\"./trained_models/{epoch}.pth\"\n",
    "    torch.save(model.state_dict(),path)\n",
    "\n",
    "    end = time.time()\n",
    "\n",
    "    print(f\"[{epoch}/{epochs}] loss: {cum_loss} time: {end - start}\")\n",
    "    \n"
   ]
  },
  {
   "cell_type": "code",
   "execution_count": 5,
   "metadata": {},
   "outputs": [
    {
     "data": {
      "text/plain": [
       "1.900164008140564"
      ]
     },
     "execution_count": 5,
     "metadata": {},
     "output_type": "execute_result"
    }
   ],
   "source": [
    "loss.item()"
   ]
  },
  {
   "cell_type": "code",
   "execution_count": null,
   "metadata": {},
   "outputs": [],
   "source": [
    "3 * 50"
   ]
  },
  {
   "cell_type": "code",
   "execution_count": null,
   "metadata": {},
   "outputs": [],
   "source": []
  }
 ],
 "metadata": {
  "interpreter": {
   "hash": "d5b53d600c30c432c9f427e0099044907f5b90ab104622449e78aa45f8a63a20"
  },
  "kernelspec": {
   "display_name": "Python 3.9.10 64-bit ('def': venv)",
   "language": "python",
   "name": "python3"
  },
  "language_info": {
   "codemirror_mode": {
    "name": "ipython",
    "version": 3
   },
   "file_extension": ".py",
   "mimetype": "text/x-python",
   "name": "python",
   "nbconvert_exporter": "python",
   "pygments_lexer": "ipython3",
   "version": "3.9.10"
  },
  "orig_nbformat": 4
 },
 "nbformat": 4,
 "nbformat_minor": 2
}
